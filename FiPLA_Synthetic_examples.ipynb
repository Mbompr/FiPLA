{
 "cells": [
  {
   "cell_type": "code",
   "execution_count": 1,
   "metadata": {
    "id": "SFfJP-yR_6UN",
    "tags": []
   },
   "outputs": [],
   "source": [
    "import pandas as pd\n",
    "import numpy as np\n",
    "import matplotlib.pyplot as plt\n",
    "plt.style.use('ggplot')\n",
    "from functools import lru_cache"
   ]
  },
  {
   "cell_type": "markdown",
   "metadata": {
    "id": "w5cnY5Qf_6UQ"
   },
   "source": [
    "## Data generation\n",
    "\n",
    "In this experiment, ads do not have any marginal effect. In other words, the conversion probability is constant over time given by some $\\alpha$. Additionally, we assume that if a user does not convert, they leave the system with probability $\\beta$."
   ]
  },
  {
   "cell_type": "code",
   "execution_count": 2,
   "metadata": {
    "colab": {
     "base_uri": "https://localhost:8080/",
     "height": 206
    },
    "id": "T9CcMRGg_6UR",
    "outputId": "1c228d87-80e2-4a4a-d74f-b7395bcefe0f",
    "tags": []
   },
   "outputs": [
    {
     "data": {
      "text/html": [
       "<div>\n",
       "<style scoped>\n",
       "    .dataframe tbody tr th:only-of-type {\n",
       "        vertical-align: middle;\n",
       "    }\n",
       "\n",
       "    .dataframe tbody tr th {\n",
       "        vertical-align: top;\n",
       "    }\n",
       "\n",
       "    .dataframe thead th {\n",
       "        text-align: right;\n",
       "    }\n",
       "</style>\n",
       "<table border=\"1\" class=\"dataframe\">\n",
       "  <thead>\n",
       "    <tr style=\"text-align: right;\">\n",
       "      <th></th>\n",
       "      <th>uid</th>\n",
       "      <th>time</th>\n",
       "      <th>features</th>\n",
       "      <th>features_</th>\n",
       "      <th>conversion</th>\n",
       "      <th>features_freq</th>\n",
       "      <th>total_uid_rewards</th>\n",
       "    </tr>\n",
       "  </thead>\n",
       "  <tbody>\n",
       "    <tr>\n",
       "      <th>0</th>\n",
       "      <td>0</td>\n",
       "      <td>1</td>\n",
       "      <td>[1]</td>\n",
       "      <td>1</td>\n",
       "      <td>0</td>\n",
       "      <td>1000</td>\n",
       "      <td>1</td>\n",
       "    </tr>\n",
       "    <tr>\n",
       "      <th>1</th>\n",
       "      <td>0</td>\n",
       "      <td>2</td>\n",
       "      <td>[2]</td>\n",
       "      <td>2</td>\n",
       "      <td>0</td>\n",
       "      <td>705</td>\n",
       "      <td>1</td>\n",
       "    </tr>\n",
       "    <tr>\n",
       "      <th>2</th>\n",
       "      <td>0</td>\n",
       "      <td>3</td>\n",
       "      <td>[3]</td>\n",
       "      <td>3</td>\n",
       "      <td>0</td>\n",
       "      <td>483</td>\n",
       "      <td>1</td>\n",
       "    </tr>\n",
       "    <tr>\n",
       "      <th>3</th>\n",
       "      <td>0</td>\n",
       "      <td>4</td>\n",
       "      <td>[4]</td>\n",
       "      <td>4</td>\n",
       "      <td>1</td>\n",
       "      <td>335</td>\n",
       "      <td>1</td>\n",
       "    </tr>\n",
       "    <tr>\n",
       "      <th>4</th>\n",
       "      <td>1</td>\n",
       "      <td>1</td>\n",
       "      <td>[1]</td>\n",
       "      <td>1</td>\n",
       "      <td>0</td>\n",
       "      <td>1000</td>\n",
       "      <td>1</td>\n",
       "    </tr>\n",
       "  </tbody>\n",
       "</table>\n",
       "</div>"
      ],
      "text/plain": [
       "   uid  time features features_  conversion  features_freq  total_uid_rewards\n",
       "0    0     1      [1]         1           0           1000                  1\n",
       "1    0     2      [2]         2           0            705                  1\n",
       "2    0     3      [3]         3           0            483                  1\n",
       "3    0     4      [4]         4           1            335                  1\n",
       "4    1     1      [1]         1           0           1000                  1"
      ]
     },
     "execution_count": 2,
     "metadata": {},
     "output_type": "execute_result"
    }
   ],
   "source": [
    "@lru_cache()\n",
    "def generate_dataset_1(n_samples=10000, seed=320, alpha=0.1, beta=0.3):\n",
    "  np.random.seed(seed)\n",
    "\n",
    "  data_rows = []\n",
    "  for i in range(n_samples):\n",
    "\n",
    "    ads_seen = 0\n",
    "    leave = 0\n",
    "    time = 0\n",
    "    total_conversion = 0\n",
    "\n",
    "    while(leave==0):\n",
    "        conversion = 0\n",
    "        time += 1\n",
    "        ads_seen += 1\n",
    "        leave = int(np.random.rand() < beta)\n",
    "        conversion = int(np.random.rand() < alpha)\n",
    "        total_conversion += conversion\n",
    "\n",
    "        data_rows += [\n",
    "                    {\"uid\": i,\n",
    "                     \"time\": time,\n",
    "                     \"features\": [time],\n",
    "                     \"features_\": str(time),\n",
    "                     \"conversion\": 0}\n",
    "                     ]\n",
    "    if total_conversion > 0:\n",
    "      data_rows[-1]['conversion'] = total_conversion\n",
    "\n",
    "  ### Compute frequency of scenarios\n",
    "  count_unique_scenario = np.unique(np.array(pd.DataFrame(data_rows).features_),return_counts=True)\n",
    "  count_unique_scenario = dict(zip(count_unique_scenario[0],count_unique_scenario[1]))\n",
    "  for i in range(len(data_rows)):\n",
    "    scenario = data_rows[i]['features_']\n",
    "    data_rows[i]['features_freq'] = count_unique_scenario.get(scenario)\n",
    "  data = pd.DataFrame(data_rows)\n",
    "\n",
    "  total_uid_rewards_df = data.groupby('uid').agg({'conversion': 'max'}).reset_index()\n",
    "  total_uid_rewards_df.columns = ['uid', 'total_uid_rewards']\n",
    "  data = data.merge(total_uid_rewards_df)\n",
    "\n",
    "  return data\n",
    "\n",
    "generate_dataset_1(n_samples=1000).head()"
   ]
  },
  {
   "cell_type": "markdown",
   "metadata": {
    "id": "fBL0WGfV_6UW"
   },
   "source": [
    "## Additivity metric\n",
    "$$\n",
    "\\mathcal{L}^{\\sf add}(V) = \\dfrac{1}{T} \\cdot \\sum \\limits_{u \\in \\mathcal{U}}  \\left[ r_u \\cdot \\ln \\left( \\sum_{\\boldsymbol{x} : u^t = u} V( \\boldsymbol{x}) \\right)  - \\sum_{\\boldsymbol{x} : u^t = u} V (\\boldsymbol{x})\\right].\n",
    "$$"
   ]
  },
  {
   "cell_type": "code",
   "execution_count": 3,
   "metadata": {
    "id": "B3kjU0oL_6UW",
    "tags": []
   },
   "outputs": [],
   "source": [
    "def additivity_metric(model_predictions, timeline_ids, uid_rewards):\n",
    "  # Gather the attributions per timeline and obtain the sum of the predictions per timeline\n",
    "  predictions_per_display = pd.DataFrame({\n",
    "      'timeline_id': timeline_ids,\n",
    "      'prediction': model_predictions,\n",
    "      'uid_reward': uid_rewards,\n",
    "  })\n",
    "\n",
    "  sum_predictions_by_timeline = (\n",
    "    predictions_per_display\n",
    "    .groupby('timeline_id')\n",
    "    .agg(sum_predictions=('prediction', 'sum'), uid_reward=('uid_reward', 'first'))\n",
    "    .reset_index()\n",
    "  )\n",
    "\n",
    "  return (\n",
    "    sum_predictions_by_timeline['uid_reward']\n",
    "    * np.log(sum_predictions_by_timeline['sum_predictions'])\n",
    "    - sum_predictions_by_timeline['sum_predictions']\n",
    "  ).mean()"
   ]
  },
  {
   "cell_type": "markdown",
   "metadata": {
    "id": "lcf1spyu_6UY"
   },
   "source": [
    "## Fixed point algorithm"
   ]
  },
  {
   "cell_type": "markdown",
   "metadata": {
    "id": "bMatCVxA_6UZ"
   },
   "source": [
    "We are implementing the following fixed-point algorithm\n",
    "\n",
    "1. Generate training dataset by  attributing rewards at the display level with the label attribution $\\mu^k$\n",
    "   $$ \\mathcal{S}^{(k)} \\;\\; = \\;\\; \\big\\{\n",
    "       (\\boldsymbol{x}^1, y^1) ,\\dots, (\\boldsymbol{x}^T,y^T)\n",
    "       \\big\\}$$\n",
    "  \n",
    "2. Train any \\textit{ML algorithm} on the training set $\\mathcal{S}^{(k+1)}$. Update $\\hat V^{(k+1)}$ to the resulting mapping. \n",
    "\n",
    "3. Update the label attribution $\\mu^{(k+1)}$ with the fixed point characterization \n",
    "       $$\\mu^{(k + 1)} \\;\\; = \\;\\; (\\boldsymbol{x}^t | u^t) \\mapsto  \\frac{\\hat V^{(k+1)}\\big(\\boldsymbol{x}^t\\big)}{\\sum_{\\boldsymbol{x}' \\in \\mathcal{X}_{u^t}} \\hat V^{(k+1)}  \\big(\\boldsymbol{x}'\\big)} \\cdot r_{u^t}.$$"
   ]
  },
  {
   "cell_type": "code",
   "execution_count": 4,
   "metadata": {
    "id": "FJzRNY5dKpX5",
    "tags": []
   },
   "outputs": [],
   "source": [
    "def average_display_valuation_per_scenario_type(dataset, key=\"features_\"):\n",
    "  return (\n",
    "    dataset.groupby(key)\n",
    "      .agg(scenario_valuation=('labels', 'mean'))\n",
    "      .reset_index()\n",
    "  )\n",
    "\n",
    "\n",
    "def compute_display_valuations_by_averaging(dataset):\n",
    "  scenario_valuation = average_display_valuation_per_scenario_type(dataset, key=\"features_\")\n",
    "  return dataset.merge(scenario_valuation, on='features_', how='left')\n",
    "\n",
    "\n",
    "def run_one_iteration(original_dataset, compute_display_valuations):\n",
    "  current_dataset = original_dataset.copy()\n",
    "  if \"scenario_valuation\" in current_dataset.columns:\n",
    "    current_dataset.drop(\"scenario_valuation\", inplace=True, axis=1)\n",
    "\n",
    "  # Step 2, compute valuations\n",
    "  current_dataset = compute_display_valuations(current_dataset)\n",
    "\n",
    "  # Step 3, compute new labels proportionally to the display valuations\n",
    "  total_uid_valuation = (\n",
    "      current_dataset\n",
    "      .groupby('uid')\n",
    "      .agg(total_uid_valuation=('scenario_valuation', 'sum'))\n",
    "      .reset_index()\n",
    "  )\n",
    "\n",
    "  merged_dataset = current_dataset.merge(total_uid_valuation, on='uid', how='left')\n",
    "  current_dataset['labels'] = (\n",
    "    merged_dataset['scenario_valuation']\n",
    "    / merged_dataset['total_uid_valuation']\n",
    "    * merged_dataset['total_uid_rewards']\n",
    "  )\n",
    "\n",
    "  return_columns = list(original_dataset.columns)\n",
    "  if  \"scenario_valuation\" not in return_columns:\n",
    "    return_columns += [\"scenario_valuation\"]\n",
    "  return current_dataset[return_columns]\n",
    "\n",
    "\n",
    "def compute_metrics(original_dataset, compute_display_valuations):\n",
    "  current_dataset = original_dataset.copy()\n",
    "\n",
    "  scenario_valuation = current_dataset.groupby(\"features_\").agg({\"scenario_valuation\": \"mean\"}).reset_index()\n",
    "  scenario_valuation_dict = {\n",
    "    row['features_']: row['scenario_valuation']\n",
    "    for _, row in scenario_valuation.iterrows()\n",
    "  }\n",
    "\n",
    "  if \"scenario_valuation\" in current_dataset.columns:\n",
    "    current_dataset.drop(\"scenario_valuation\", inplace=True, axis=1)\n",
    "\n",
    "  dataset_with_valuations = current_dataset.merge(scenario_valuation, on='features_', how='left')\n",
    "\n",
    "  current_additivity_metric = additivity_metric(\n",
    "      dataset_with_valuations['scenario_valuation'],\n",
    "      dataset_with_valuations['uid'],\n",
    "      dataset_with_valuations['total_uid_rewards']\n",
    "  )\n",
    "\n",
    "  return scenario_valuation_dict, current_additivity_metric"
   ]
  },
  {
   "cell_type": "code",
   "execution_count": 7,
   "metadata": {
    "id": "2XbsNQtt_6Uk",
    "tags": []
   },
   "outputs": [],
   "source": [
    "def run_experiment(generate_dataset_fn, tol=1e-3):\n",
    "  current_dataset = generate_dataset_fn()\n",
    "\n",
    "  # Initialize with last click\n",
    "  current_dataset['labels'] = current_dataset['conversion'].values\n",
    "\n",
    "  scenario_valuations = []\n",
    "\n",
    "  additivity_metrics = []\n",
    "  last_likelihood = 0\n",
    "  delta_likelihood = 1\n",
    "  while delta_likelihood > tol:\n",
    "    current_dataset = run_one_iteration(current_dataset, compute_display_valuations_by_averaging)\n",
    "    scenario_valuation, current_additivity_metric = compute_metrics(current_dataset, compute_display_valuations_by_averaging)\n",
    "    scenario_valuations += [scenario_valuation]\n",
    "    additivity_metrics += [current_additivity_metric]\n",
    "    delta_likelihood = np.abs(current_additivity_metric - last_likelihood)\n",
    "    last_likelihood = current_additivity_metric\n",
    "\n",
    "  return additivity_metrics, scenario_valuations\n",
    "\n",
    "def print_valuations(time, scenario_valuations):\n",
    "  print('Last touch')\n",
    "  for t in time:\n",
    "      print('(',t,',',scenario_valuations[0][t],')')\n",
    "\n",
    "  print('FiPLA')\n",
    "  for t in time:\n",
    "      print('(',t,',',scenario_valuations[-1][t],')')"
   ]
  },
  {
   "cell_type": "markdown",
   "metadata": {
    "id": "MnTUMaIb0GVT"
   },
   "source": [
    "## Setup 1"
   ]
  },
  {
   "cell_type": "code",
   "execution_count": 9,
   "metadata": {
    "id": "L967p1u20zTp",
    "tags": []
   },
   "outputs": [],
   "source": [
    "N_SAMPLES = 3_000_000\n",
    "TOL = 1e-5"
   ]
  },
  {
   "cell_type": "code",
   "execution_count": 10,
   "metadata": {
    "id": "xD-32kFp0FQ0",
    "tags": []
   },
   "outputs": [],
   "source": [
    "additivity_metrics, scenario_valuations = run_experiment(lambda: generate_dataset_1(n_samples=N_SAMPLES, seed=2390, alpha=0.1, beta=0.3), tol=TOL)\n",
    "scenario_valuations = [{k: scenario_valuation[str(k)] for k in sorted(map(int, scenario_valuation.keys()))} for scenario_valuation in scenario_valuations]"
   ]
  },
  {
   "cell_type": "code",
   "execution_count": 11,
   "metadata": {
    "id": "u0Wx9zNj_6Un",
    "tags": []
   },
   "outputs": [
    {
     "data": {
      "image/png": "[encoded data removed]",
      "text/plain": [
       "<Figure size 504x288 with 1 Axes>"
      ]
     },
     "metadata": {},
     "output_type": "display_data"
    }
   ],
   "source": [
    "fig, ax = plt.subplots(1, 1, figsize=(7, 4))\n",
    "\n",
    "ax.set_title('Figure 3. Convergence of the additivity metric')\n",
    "ax.plot(additivity_metrics)\n",
    "ax.set_xlim([0, 7])\n",
    "ax.set_ylabel('additivity metric')\n",
    "ax.set_xlabel('iteration number')\n",
    "\n",
    "llh_init = additivity_metrics[0]\n",
    "llh_conv = additivity_metrics[-1]\n",
    "ax.scatter(len(additivity_metrics) - 1, llh_conv, s=60, label=f'FiPLA : {llh_conv:.4f}', c='C0')\n",
    "ax.scatter(0, llh_init, s=60, label=f'last touch : {llh_init:.4f}', c='C1')\n",
    "ax.legend()\n",
    "None"
   ]
  },
  {
   "cell_type": "code",
   "execution_count": 12,
   "metadata": {
    "id": "XyzuA5lktzCr",
    "tags": []
   },
   "outputs": [],
   "source": [
    "# for i in range(len(additivity_metrics)):\n",
    "#    print('(',i,',',additivity_metrics[i],')')"
   ]
  },
  {
   "cell_type": "code",
   "execution_count": 13,
   "metadata": {
    "id": "XMw0BcN_KpX7",
    "tags": []
   },
   "outputs": [
    {
     "data": {
      "image/png": "[encoded data removed]",
      "text/plain": [
       "<Figure size 432x288 with 1 Axes>"
      ]
     },
     "metadata": {},
     "output_type": "display_data"
    }
   ],
   "source": [
    "time = list(scenario_valuations[0].keys())\n",
    "plt.plot(time, [scenario_valuations[0][t] for t in time], label='last touch')\n",
    "plt.plot(time, [scenario_valuations[-1][t] for t in time],label='FiPLA')\n",
    "plt.legend()\n",
    "plt.xlim([0, 10])\n",
    "plt.ylim([0, 0.3])\n",
    "plt.title(\"Figure 4. a: valuation as number of impressions\")\n",
    "None"
   ]
  },
  {
   "cell_type": "code",
   "execution_count": 14,
   "metadata": {
    "id": "BaMP1Fo_KpX7",
    "tags": []
   },
   "outputs": [],
   "source": [
    "# print_valuations(time, scenario_valuations)"
   ]
  },
  {
   "cell_type": "markdown",
   "metadata": {
    "id": "NBZRenbT0Ztc"
   },
   "source": [
    "## Setup 2"
   ]
  },
  {
   "cell_type": "code",
   "execution_count": 15,
   "metadata": {
    "id": "iEjQPw7RKpX7",
    "tags": []
   },
   "outputs": [
    {
     "data": {
      "text/html": [
       "<div>\n",
       "<style scoped>\n",
       "    .dataframe tbody tr th:only-of-type {\n",
       "        vertical-align: middle;\n",
       "    }\n",
       "\n",
       "    .dataframe tbody tr th {\n",
       "        vertical-align: top;\n",
       "    }\n",
       "\n",
       "    .dataframe thead th {\n",
       "        text-align: right;\n",
       "    }\n",
       "</style>\n",
       "<table border=\"1\" class=\"dataframe\">\n",
       "  <thead>\n",
       "    <tr style=\"text-align: right;\">\n",
       "      <th></th>\n",
       "      <th>uid</th>\n",
       "      <th>time</th>\n",
       "      <th>features</th>\n",
       "      <th>features_</th>\n",
       "      <th>conversion</th>\n",
       "      <th>features_freq</th>\n",
       "      <th>total_uid_rewards</th>\n",
       "    </tr>\n",
       "  </thead>\n",
       "  <tbody>\n",
       "    <tr>\n",
       "      <th>0</th>\n",
       "      <td>0</td>\n",
       "      <td>1</td>\n",
       "      <td>[1]</td>\n",
       "      <td>1</td>\n",
       "      <td>0</td>\n",
       "      <td>10000</td>\n",
       "      <td>0</td>\n",
       "    </tr>\n",
       "    <tr>\n",
       "      <th>1</th>\n",
       "      <td>0</td>\n",
       "      <td>2</td>\n",
       "      <td>[2]</td>\n",
       "      <td>2</td>\n",
       "      <td>0</td>\n",
       "      <td>6962</td>\n",
       "      <td>0</td>\n",
       "    </tr>\n",
       "    <tr>\n",
       "      <th>2</th>\n",
       "      <td>0</td>\n",
       "      <td>3</td>\n",
       "      <td>[3]</td>\n",
       "      <td>3</td>\n",
       "      <td>0</td>\n",
       "      <td>4822</td>\n",
       "      <td>0</td>\n",
       "    </tr>\n",
       "    <tr>\n",
       "      <th>3</th>\n",
       "      <td>1</td>\n",
       "      <td>1</td>\n",
       "      <td>[1]</td>\n",
       "      <td>1</td>\n",
       "      <td>0</td>\n",
       "      <td>10000</td>\n",
       "      <td>0</td>\n",
       "    </tr>\n",
       "    <tr>\n",
       "      <th>4</th>\n",
       "      <td>2</td>\n",
       "      <td>1</td>\n",
       "      <td>[1]</td>\n",
       "      <td>1</td>\n",
       "      <td>0</td>\n",
       "      <td>10000</td>\n",
       "      <td>1</td>\n",
       "    </tr>\n",
       "  </tbody>\n",
       "</table>\n",
       "</div>"
      ],
      "text/plain": [
       "   uid  time features features_  conversion  features_freq  total_uid_rewards\n",
       "0    0     1      [1]         1           0          10000                  0\n",
       "1    0     2      [2]         2           0           6962                  0\n",
       "2    0     3      [3]         3           0           4822                  0\n",
       "3    1     1      [1]         1           0          10000                  0\n",
       "4    2     1      [1]         1           0          10000                  1"
      ]
     },
     "execution_count": 15,
     "metadata": {},
     "output_type": "execute_result"
    }
   ],
   "source": [
    "@lru_cache()\n",
    "def generate_dataset_2(n_samples=10000, seed=None, alpha = 0.1, beta =0.3):\n",
    "  np.random.seed(seed)\n",
    "\n",
    "  data_rows = []\n",
    "  for i in range(n_samples):\n",
    "\n",
    "    ads_seen = 0\n",
    "    leave = 0\n",
    "    time = 0\n",
    "    total_conversion = 0\n",
    "\n",
    "    while(leave==0):\n",
    "        conversion = 0\n",
    "        time += 1\n",
    "        ads_seen += 1\n",
    "        leave = int(np.random.rand() < beta)\n",
    "        conversion = int(np.random.rand() < alpha)\n",
    "        total_conversion += conversion\n",
    "\n",
    "        data_rows += [\n",
    "                    {\"uid\": i,\n",
    "                     \"time\": time,\n",
    "                     \"features\": [time],\n",
    "                     \"features_\": str(time),\n",
    "                     \"conversion\": 0}\n",
    "                     ]\n",
    "\n",
    "    total_conversion = np.minimum(total_conversion,1)\n",
    "    if total_conversion > 0:\n",
    "      data_rows[-1]['conversion'] = total_conversion\n",
    "\n",
    "\n",
    "\n",
    "  ### Compute frequency of scenarios\n",
    "  count_unique_scenario = np.unique(np.array(pd.DataFrame(data_rows).features_),return_counts=True)\n",
    "  count_unique_scenario = dict(zip(count_unique_scenario[0],count_unique_scenario[1]))\n",
    "  for i in range(len(data_rows)):\n",
    "    scenario = data_rows[i]['features_']\n",
    "    data_rows[i]['features_freq'] = count_unique_scenario.get(scenario)\n",
    "  data = pd.DataFrame(data_rows)\n",
    "\n",
    "  total_uid_rewards_df = data.groupby('uid').agg({'conversion': 'max'}).reset_index()\n",
    "  total_uid_rewards_df.columns = ['uid', 'total_uid_rewards']\n",
    "  data = data.merge(total_uid_rewards_df)\n",
    "\n",
    "  return data\n",
    "\n",
    "generate_dataset_2(n_samples=10000).head(5)"
   ]
  },
  {
   "cell_type": "code",
   "execution_count": 16,
   "metadata": {
    "id": "kCrhisx4K7i6",
    "tags": []
   },
   "outputs": [],
   "source": [
    "additivity_metrics, scenario_valuations = run_experiment(lambda: generate_dataset_2(n_samples=N_SAMPLES,seed=2390, alpha=0.1, beta=0.3), TOL)\n",
    "scenario_valuations = [{k: scenario_valuation[str(k)] for k in sorted(map(int, scenario_valuation.keys()))} for scenario_valuation in scenario_valuations]"
   ]
  },
  {
   "cell_type": "code",
   "execution_count": 17,
   "metadata": {
    "id": "Fff0Awn20o9V",
    "tags": []
   },
   "outputs": [
    {
     "data": {
      "image/png": "[encoded data removed]",
      "text/plain": [
       "<Figure size 432x288 with 1 Axes>"
      ]
     },
     "metadata": {},
     "output_type": "display_data"
    }
   ],
   "source": [
    "time = list(scenario_valuations[0].keys())\n",
    "plt.plot(time, [scenario_valuations[0][t] for t in time],label='last touch')\n",
    "plt.plot(time, [scenario_valuations[-1][t] for t in time],label='FiPLA')\n",
    "plt.legend()\n",
    "plt.xlim([0, 10])\n",
    "plt.ylim([0, 0.3])\n",
    "plt.title(\"Figure 4. b: valuation as number of impressions\")\n",
    "None"
   ]
  },
  {
   "cell_type": "code",
   "execution_count": 18,
   "metadata": {
    "id": "sSTdLinR3CPV",
    "tags": []
   },
   "outputs": [],
   "source": [
    "# print_valuations(scenario_valuations)"
   ]
  },
  {
   "cell_type": "markdown",
   "metadata": {
    "id": "W6mEci5Y1mv-"
   },
   "source": [
    "## Setup 3"
   ]
  },
  {
   "cell_type": "code",
   "execution_count": 19,
   "metadata": {
    "id": "_xUfZogh1Chm",
    "tags": []
   },
   "outputs": [
    {
     "data": {
      "text/html": [
       "<div>\n",
       "<style scoped>\n",
       "    .dataframe tbody tr th:only-of-type {\n",
       "        vertical-align: middle;\n",
       "    }\n",
       "\n",
       "    .dataframe tbody tr th {\n",
       "        vertical-align: top;\n",
       "    }\n",
       "\n",
       "    .dataframe thead th {\n",
       "        text-align: right;\n",
       "    }\n",
       "</style>\n",
       "<table border=\"1\" class=\"dataframe\">\n",
       "  <thead>\n",
       "    <tr style=\"text-align: right;\">\n",
       "      <th></th>\n",
       "      <th>uid</th>\n",
       "      <th>time</th>\n",
       "      <th>number_display_A</th>\n",
       "      <th>number_display_B</th>\n",
       "      <th>sampled_display</th>\n",
       "      <th>features</th>\n",
       "      <th>features_</th>\n",
       "      <th>conversion</th>\n",
       "      <th>total_uid_rewards</th>\n",
       "    </tr>\n",
       "  </thead>\n",
       "  <tbody>\n",
       "    <tr>\n",
       "      <th>0</th>\n",
       "      <td>0</td>\n",
       "      <td>1</td>\n",
       "      <td>0</td>\n",
       "      <td>0</td>\n",
       "      <td>1</td>\n",
       "      <td>[0, 0, 1]</td>\n",
       "      <td>0_0_1</td>\n",
       "      <td>0</td>\n",
       "      <td>0</td>\n",
       "    </tr>\n",
       "    <tr>\n",
       "      <th>1</th>\n",
       "      <td>1</td>\n",
       "      <td>1</td>\n",
       "      <td>0</td>\n",
       "      <td>0</td>\n",
       "      <td>0</td>\n",
       "      <td>[0, 0, 0]</td>\n",
       "      <td>0_0_0</td>\n",
       "      <td>0</td>\n",
       "      <td>0</td>\n",
       "    </tr>\n",
       "    <tr>\n",
       "      <th>2</th>\n",
       "      <td>1</td>\n",
       "      <td>2</td>\n",
       "      <td>0</td>\n",
       "      <td>1</td>\n",
       "      <td>1</td>\n",
       "      <td>[0, 1, 1]</td>\n",
       "      <td>0_1_1</td>\n",
       "      <td>0</td>\n",
       "      <td>0</td>\n",
       "    </tr>\n",
       "    <tr>\n",
       "      <th>3</th>\n",
       "      <td>1</td>\n",
       "      <td>3</td>\n",
       "      <td>1</td>\n",
       "      <td>1</td>\n",
       "      <td>0</td>\n",
       "      <td>[1, 1, 0]</td>\n",
       "      <td>1_1_0</td>\n",
       "      <td>0</td>\n",
       "      <td>0</td>\n",
       "    </tr>\n",
       "    <tr>\n",
       "      <th>4</th>\n",
       "      <td>2</td>\n",
       "      <td>1</td>\n",
       "      <td>0</td>\n",
       "      <td>0</td>\n",
       "      <td>1</td>\n",
       "      <td>[0, 0, 1]</td>\n",
       "      <td>0_0_1</td>\n",
       "      <td>0</td>\n",
       "      <td>0</td>\n",
       "    </tr>\n",
       "  </tbody>\n",
       "</table>\n",
       "</div>"
      ],
      "text/plain": [
       "   uid  time  number_display_A  number_display_B  sampled_display   features  \\\n",
       "0    0     1                 0                 0                1  [0, 0, 1]   \n",
       "1    1     1                 0                 0                0  [0, 0, 0]   \n",
       "2    1     2                 0                 1                1  [0, 1, 1]   \n",
       "3    1     3                 1                 1                0  [1, 1, 0]   \n",
       "4    2     1                 0                 0                1  [0, 0, 1]   \n",
       "\n",
       "  features_  conversion  total_uid_rewards  \n",
       "0     0_0_1           0                  0  \n",
       "1     0_0_0           0                  0  \n",
       "2     0_1_1           0                  0  \n",
       "3     1_1_0           0                  0  \n",
       "4     0_0_1           0                  0  "
      ]
     },
     "execution_count": 19,
     "metadata": {},
     "output_type": "execute_result"
    }
   ],
   "source": [
    "@lru_cache()\n",
    "def generate_dataset_3(n_samples=100000, seed=None, alpha_A = 0.2, alpha_B = 0.05, beta = 0.3):\n",
    "  np.random.seed(seed)\n",
    "\n",
    "  data_rows = []\n",
    "  for i in range(n_samples):\n",
    "    data_temp = []\n",
    "\n",
    "    conversion = 0\n",
    "    leave = 0\n",
    "    time = 0\n",
    "    number_display_A = 0\n",
    "    number_display_B = 0\n",
    "    total_conversion = 0\n",
    "\n",
    "    while(leave==0):\n",
    "      time += 1\n",
    "      conversion = 0\n",
    "      if np.random.rand() < 0.5:\n",
    "        sampled_display = 1\n",
    "      else:\n",
    "        sampled_display = 0\n",
    "\n",
    "      if sampled_display == 1:\n",
    "        conversion = int(np.random.rand() < alpha_A)\n",
    "      else:\n",
    "        conversion = int(np.random.rand() < alpha_B)\n",
    "\n",
    "      data_temp += [\n",
    "                    {\"uid\": i,\n",
    "                     \"time\": time,\n",
    "                     \"number_display_A\": number_display_A,\n",
    "                     \"number_display_B\": number_display_B,\n",
    "                     \"sampled_display\": sampled_display,\n",
    "                     \"features\": [number_display_A,number_display_B,sampled_display],\n",
    "                     \"features_\": str(number_display_A)+'_'+str(number_display_B)+'_'+str(sampled_display),\n",
    "                     \"conversion\": 0\n",
    "                     }\n",
    "                     ]\n",
    "\n",
    "      if sampled_display == 1:\n",
    "        number_display_A += 1\n",
    "      else:\n",
    "        number_display_B += 1\n",
    "\n",
    "\n",
    "      total_conversion += conversion\n",
    "      leave = int(np.random.rand() < beta)\n",
    "    data_temp[-1]['conversion'] = total_conversion\n",
    "    #total_conversion = np.minimum(total_conversion,1)\n",
    "\n",
    "    data_rows += data_temp\n",
    "\n",
    "\n",
    "  data = pd.DataFrame(data_rows)\n",
    "\n",
    "  total_uid_rewards_df = data.groupby('uid').agg({'conversion': 'max'}).reset_index()\n",
    "  total_uid_rewards_df.columns = ['uid', 'total_uid_rewards']\n",
    "  data = data.merge(total_uid_rewards_df)\n",
    "\n",
    "  return data\n",
    "\n",
    "dataset = generate_dataset_3(n_samples=10_000)\n",
    "dataset.head(5)"
   ]
  },
  {
   "cell_type": "code",
   "execution_count": 20,
   "metadata": {
    "id": "UFcLwPNd1upo",
    "tags": []
   },
   "outputs": [],
   "source": [
    "additivity_metrics, scenario_valuations = run_experiment(lambda: generate_dataset_3(n_samples=N_SAMPLES, alpha_A=0.2, alpha_B = 0.05, beta = 0.3, seed=2390), TOL)"
   ]
  },
  {
   "cell_type": "code",
   "execution_count": 22,
   "metadata": {
    "id": "TpDjmQiR2N2_",
    "tags": []
   },
   "outputs": [],
   "source": [
    "temp_mtc = pd.DataFrame(scenario_valuations[-1].items(), columns=['scenario', 'predicted_valuation'])\n",
    "temp_lt = pd.DataFrame(scenario_valuations[0].items(), columns=['scenario', 'predicted_valuation'])\n",
    "\n",
    "temp_mtc['number_display_A'] = temp_mtc['scenario'].apply(lambda x: x.split(\"_\")[0]).astype(int)\n",
    "temp_mtc['number_display_B'] = temp_mtc['scenario'].apply(lambda x: x.split(\"_\")[1]).astype(int)\n",
    "temp_mtc['sampled_display'] = temp_mtc['scenario'].apply(lambda x: x.split(\"_\")[2]).astype(int)\n",
    "\n",
    "temp_lt['number_display_A'] = temp_lt['scenario'].apply(lambda x: x.split(\"_\")[0]).astype(int)\n",
    "temp_lt['number_display_B'] = temp_lt['scenario'].apply(lambda x: x.split(\"_\")[1]).astype(int)\n",
    "temp_lt['sampled_display'] = temp_lt['scenario'].apply(lambda x: x.split(\"_\")[2]).astype(int)"
   ]
  },
  {
   "cell_type": "code",
   "execution_count": 26,
   "metadata": {
    "id": "zCVGGFb3OUNV",
    "tags": []
   },
   "outputs": [
    {
     "data": {
      "image/png": "[encoded data removed]",
      "text/plain": [
       "<Figure size 432x288 with 1 Axes>"
      ]
     },
     "metadata": {},
     "output_type": "display_data"
    },
    {
     "data": {
      "image/png": "[encoded data removed]",
      "text/plain": [
       "<Figure size 432x288 with 1 Axes>"
      ]
     },
     "metadata": {},
     "output_type": "display_data"
    }
   ],
   "source": [
    "for sampled_display in [1, 0]:\n",
    "  for data, data_label in zip([temp_mtc, temp_lt], [\"FP\", \"LT\"]):\n",
    "    for number_display_B in [0, 1, 2]:\n",
    "      label = f\"V^{data_label}(x, {number_display_B}, {sampled_display})\"\n",
    "      serie = data[(data[\"number_display_B\"] == number_display_B) & (data[\"sampled_display\"] == sampled_display)].sort_values(\"number_display_A\")[\"predicted_valuation\"].values\n",
    "      plt.plot(serie, label=label)\n",
    "      #print()\n",
    "      #print(label)\n",
    "      #for i in range(min(11, len(serie))):\n",
    "      #  print(f'({i}, {serie[i]})')\n",
    "\n",
    "  if sampled_display == 0:\n",
    "    plt.title(\"Figure 5. b: Learned valudation when z=B\")\n",
    "  else:\n",
    "    plt.title(\"Figure 5. a: Learned valudation when z=A\")\n",
    "  \n",
    "  plt.legend()\n",
    "  plt.xlim(0, 5)\n",
    "  plt.ylim(0, 0.4)\n",
    "  plt.xlabel(\"Number of ads x\")\n",
    "  plt.show()"
   ]
  }
 ],
 "metadata": {
  "colab": {
   "provenance": [],
   "toc_visible": true
  },
  "kernelspec": {
   "display_name": "venv",
   "language": "python",
   "name": "python3"
  },
  "language_info": {
   "codemirror_mode": {
    "name": "ipython",
    "version": 3
   },
   "file_extension": ".py",
   "mimetype": "text/x-python",
   "name": "python",
   "nbconvert_exporter": "python",
   "pygments_lexer": "ipython3",
   "version": "3.6.8"
  }
 },
 "nbformat": 4,
 "nbformat_minor": 4
}
